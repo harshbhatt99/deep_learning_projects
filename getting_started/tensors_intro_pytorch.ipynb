{
 "cells": [
  {
   "cell_type": "markdown",
   "metadata": {},
   "source": [
    "Tensors Basics"
   ]
  },
  {
   "cell_type": "code",
   "execution_count": null,
   "metadata": {},
   "outputs": [],
   "source": [
    "# Tensors are multi-dimensional arrays - like NumPy arrays\n",
    "# Difference: accelerated memory (GPU/TPU), non-numerical data types, non-rectangular\n",
    "# Tensorflow tensors are immutable (cannot be changed), PyTorch tensors are mutable\n",
    "# Tensors can broadcast information (mathematical arrays cannot)\n",
    "# Tensors include programmatic attributes and methods (not part of mathematics)"
   ]
  },
  {
   "cell_type": "code",
   "execution_count": 1,
   "metadata": {},
   "outputs": [],
   "source": [
    "# helpers.py file contains functions to print and do some operations on tensors\n",
    "import sys\n",
    "import torch\n",
    "import helpers as h"
   ]
  },
  {
   "cell_type": "code",
   "execution_count": 2,
   "metadata": {},
   "outputs": [
    {
     "name": "stdout",
     "output_type": "stream",
     "text": [
      "Python version: 3.10.0 (tags/v3.10.0:b494f59, Oct  4 2021, 19:00:18) [MSC v.1929 64 bit (AMD64)]\n",
      "pyTorch version: 2.1.2+cpu\n"
     ]
    }
   ],
   "source": [
    "# Printing the python and pytorch version (using the functions in helpers.py)\n",
    "h.print_python_version()\n",
    "h.print_pytorch_version()"
   ]
  },
  {
   "cell_type": "code",
   "execution_count": 3,
   "metadata": {},
   "outputs": [
    {
     "name": "stdout",
     "output_type": "stream",
     "text": [
      "tensor([1., 2.])\n",
      "Type         <class 'torch.Tensor'>\n",
      "dtype        torch.float32\n",
      "Dimension    1\n",
      "Shape        (2,)\n"
     ]
    }
   ],
   "source": [
    "# Initializing 1D-tensor with 2 floating-point numbers 1.0 & 2.0\n",
    "x = torch.tensor([1., 2.])\n",
    "h.print_tensor_info(x)"
   ]
  },
  {
   "cell_type": "code",
   "execution_count": 6,
   "metadata": {},
   "outputs": [
    {
     "data": {
      "text/plain": [
       "'cpu'"
      ]
     },
     "execution_count": 6,
     "metadata": {},
     "output_type": "execute_result"
    }
   ],
   "source": [
    "x.device.type"
   ]
  },
  {
   "cell_type": "code",
   "execution_count": 10,
   "metadata": {},
   "outputs": [
    {
     "name": "stdout",
     "output_type": "stream",
     "text": [
      "tensor([1.])\n",
      "Type         <class 'torch.Tensor'>\n",
      "dtype        torch.float32\n",
      "Dimension    1\n",
      "Shape        (1,)\n"
     ]
    }
   ],
   "source": [
    "# 1D tensor with single value\n",
    "# ',' does not change anything\n",
    "\n",
    "x = torch.tensor([1.,])\n",
    "h.print_tensor_info(x)"
   ]
  },
  {
   "cell_type": "code",
   "execution_count": null,
   "metadata": {},
   "outputs": [],
   "source": [
    "# Rank: Dimensionality - Number of axes in a tensor. (1D/2D/3D/...)\n",
    "# Shape: Tuple containing number of elements in each axis."
   ]
  },
  {
   "cell_type": "code",
   "execution_count": 11,
   "metadata": {},
   "outputs": [
    {
     "name": "stdout",
     "output_type": "stream",
     "text": [
      "2.5\n",
      "Type         <class 'torch.Tensor'>\n",
      "dtype        torch.float32\n",
      "Dimension    0\n",
      "Shape        ()\n"
     ]
    }
   ],
   "source": [
    "# Rank-0 tensor without any list\n",
    "x = torch.tensor(2.5)\n",
    "h.print_tensor_info(x)"
   ]
  },
  {
   "cell_type": "code",
   "execution_count": 12,
   "metadata": {},
   "outputs": [
    {
     "name": "stdout",
     "output_type": "stream",
     "text": [
      "tensor([[1., 2.],\n",
      "        [3., 4.]])\n",
      "Type         <class 'torch.Tensor'>\n",
      "dtype        torch.float32\n",
      "Dimension    2\n",
      "Shape        (2, 2)\n"
     ]
    }
   ],
   "source": [
    "# Rank-2 tensor\n",
    "x = torch.tensor([[1., 2.],[3., 4.]])\n",
    "h.print_tensor_info(x)"
   ]
  },
  {
   "cell_type": "code",
   "execution_count": 13,
   "metadata": {},
   "outputs": [
    {
     "name": "stdout",
     "output_type": "stream",
     "text": [
      "tensor([[[1.],\n",
      "         [2.]],\n",
      "\n",
      "        [[3.],\n",
      "         [4.]],\n",
      "\n",
      "        [[5.],\n",
      "         [6.]]])\n",
      "Type         <class 'torch.Tensor'>\n",
      "dtype        torch.float32\n",
      "Dimension    3\n",
      "Shape        (3, 2, 1)\n"
     ]
    }
   ],
   "source": [
    "# Rank-3 Tensor\n",
    "x = torch.tensor([\n",
    "    [[1.,],[2.,]],\n",
    "    [[3.,],[4.,]],\n",
    "    [[5.,],[6.,]],\n",
    "    ])\n",
    "h.print_tensor_info(x)"
   ]
  },
  {
   "cell_type": "code",
   "execution_count": 14,
   "metadata": {},
   "outputs": [
    {
     "name": "stdout",
     "output_type": "stream",
     "text": [
      "tensor([1.], dtype=torch.float64)\n",
      "Type         <class 'torch.Tensor'>\n",
      "dtype        torch.float64\n",
      "Dimension    1\n",
      "Shape        (1,)\n"
     ]
    }
   ],
   "source": [
    "# Defining data type of tensor explicitly\n",
    "x = torch.tensor([1.], dtype=torch.double)\n",
    "h.print_tensor_info(x)"
   ]
  },
  {
   "cell_type": "code",
   "execution_count": 17,
   "metadata": {},
   "outputs": [
    {
     "name": "stdout",
     "output_type": "stream",
     "text": [
      "tensor([1.])\n",
      "Type         <class 'torch.Tensor'>\n",
      "dtype        torch.float32\n",
      "Dimension    1\n",
      "Shape        (1,)\n"
     ]
    }
   ],
   "source": [
    "# We can define the tensor using torch.tensor constructor or torch.Tensor\n",
    "x = torch.Tensor([1.])\n",
    "h.print_tensor_info(x)"
   ]
  },
  {
   "cell_type": "code",
   "execution_count": 19,
   "metadata": {},
   "outputs": [
    {
     "name": "stdout",
     "output_type": "stream",
     "text": [
      "<class 'builtin_function_or_method'>\n",
      "<class 'torch._C._TensorMeta'>\n"
     ]
    }
   ],
   "source": [
    "# torch.Tensor is an alias for torch.FloatTensor\n",
    "# So, if we use torch.Tensor, it's data type is float by defaultprint(type(torch.tensor))\n",
    "print(type(torch.tensor))\n",
    "print(type(torch.Tensor))"
   ]
  },
  {
   "cell_type": "code",
   "execution_count": 16,
   "metadata": {},
   "outputs": [
    {
     "name": "stdout",
     "output_type": "stream",
     "text": [
      "tensor([1], dtype=torch.int32)\n",
      "Type         <class 'torch.Tensor'>\n",
      "dtype        torch.int32\n",
      "Dimension    1\n",
      "Shape        (1,)\n"
     ]
    }
   ],
   "source": [
    "# Tensor with integer value\n",
    "x = torch.IntTensor([1])\n",
    "h.print_tensor_info(x)"
   ]
  },
  {
   "cell_type": "code",
   "execution_count": 20,
   "metadata": {},
   "outputs": [
    {
     "name": "stdout",
     "output_type": "stream",
     "text": [
      "tensor([[1., 2.],\n",
      "        [3., 4.],\n",
      "        [5., 6.]])\n",
      "Type         <class 'torch.Tensor'>\n",
      "dtype        torch.float32\n",
      "Dimension    2\n",
      "Shape        (3, 2)\n"
     ]
    }
   ],
   "source": [
    "# Rank-2 Tensor\n",
    "x = torch.tensor([\n",
    "    [1., 2.],\n",
    "    [3., 4.],\n",
    "    [5., 6.],\n",
    "    ])\n",
    "h.print_tensor_info(x)"
   ]
  },
  {
   "cell_type": "code",
   "execution_count": 21,
   "metadata": {},
   "outputs": [
    {
     "data": {
      "text/plain": [
       "tensor(3.)"
      ]
     },
     "execution_count": 21,
     "metadata": {},
     "output_type": "execute_result"
    }
   ],
   "source": [
    "# Accessing element - row 2 and column 1\n",
    "x[1,0]"
   ]
  },
  {
   "cell_type": "code",
   "execution_count": 22,
   "metadata": {},
   "outputs": [
    {
     "name": "stdout",
     "output_type": "stream",
     "text": [
      "tensor([[[ 1.,  2.],\n",
      "         [ 3.,  4.]],\n",
      "\n",
      "        [[ 5.,  6.],\n",
      "         [ 7.,  8.]],\n",
      "\n",
      "        [[ 9., 10.],\n",
      "         [11., 12.]]])\n",
      "Type         <class 'torch.Tensor'>\n",
      "dtype        torch.float32\n",
      "Dimension    3\n",
      "Shape        (3, 2, 2)\n"
     ]
    }
   ],
   "source": [
    "# Rank-3 Tensor\n",
    "x = torch.tensor([\n",
    "    [[1., 2.],[3., 4.]],\n",
    "    [[5., 6.],[7., 8.]],\n",
    "    [[9., 10.],[11., 12.]],\n",
    "    ])\n",
    "h.print_tensor_info(x)"
   ]
  },
  {
   "cell_type": "code",
   "execution_count": 23,
   "metadata": {},
   "outputs": [
    {
     "data": {
      "text/plain": [
       "tensor([[1., 2.],\n",
       "        [3., 4.]])"
      ]
     },
     "execution_count": 23,
     "metadata": {},
     "output_type": "execute_result"
    }
   ],
   "source": [
    "# Accessing all elements of row 1\n",
    "x[0]"
   ]
  },
  {
   "cell_type": "code",
   "execution_count": 24,
   "metadata": {},
   "outputs": [
    {
     "data": {
      "text/plain": [
       "tensor(1.)"
      ]
     },
     "execution_count": 24,
     "metadata": {},
     "output_type": "execute_result"
    }
   ],
   "source": [
    "# Accessing element\n",
    "x[0][0][0]"
   ]
  },
  {
   "cell_type": "code",
   "execution_count": 25,
   "metadata": {},
   "outputs": [
    {
     "data": {
      "text/plain": [
       "tensor([1., 3.])"
      ]
     },
     "execution_count": 25,
     "metadata": {},
     "output_type": "execute_result"
    }
   ],
   "source": [
    "# Slicing syntax: [start:stop:stop]\n",
    "# First 0 refers to first element of 3x2x2 which is the first 2x2 matrix\n",
    "# : refers to all elements so whole matrix\n",
    "# Second 0 refers to Which row of each element to select which is first element of each row\n",
    "x[0,:,0]"
   ]
  },
  {
   "cell_type": "code",
   "execution_count": 28,
   "metadata": {},
   "outputs": [
    {
     "data": {
      "text/plain": [
       "tensor([1., 5.])"
      ]
     },
     "execution_count": 28,
     "metadata": {},
     "output_type": "execute_result"
    }
   ],
   "source": [
    "# 0:2 = First 2 matrices (2 is expluded here)\n",
    "# 0 = First row of all 3 matrix\n",
    "# 0 = First element of all rows\n",
    "x[0:2,0,0]"
   ]
  },
  {
   "cell_type": "code",
   "execution_count": 29,
   "metadata": {},
   "outputs": [],
   "source": [
    "# Assign values (Only in PyTorch, not in Tensorflow)\n",
    "x[1,1,1] = 100"
   ]
  },
  {
   "cell_type": "code",
   "execution_count": 30,
   "metadata": {},
   "outputs": [
    {
     "data": {
      "text/plain": [
       "tensor([[[  1.,   2.],\n",
       "         [  3.,   4.]],\n",
       "\n",
       "        [[  5.,   6.],\n",
       "         [  7., 100.]],\n",
       "\n",
       "        [[  9.,  10.],\n",
       "         [ 11.,  12.]]])"
      ]
     },
     "execution_count": 30,
     "metadata": {},
     "output_type": "execute_result"
    }
   ],
   "source": [
    "x"
   ]
  },
  {
   "cell_type": "markdown",
   "metadata": {},
   "source": [
    "Tensor Operations"
   ]
  },
  {
   "cell_type": "code",
   "execution_count": 31,
   "metadata": {},
   "outputs": [
    {
     "name": "stdout",
     "output_type": "stream",
     "text": [
      "tensor([[1., 1.],\n",
      "        [1., 1.]]) \n",
      "\n",
      "tensor([[6., 6.],\n",
      "        [6., 6.]])\n"
     ]
    }
   ],
   "source": [
    "# Using '_' with the operation does in-place change.\n",
    "# So, x will be modified after the operation.\n",
    "# Saves memory\n",
    "\n",
    "tensor = torch.ones(2, 2)\n",
    "print(tensor, \"\\n\")\n",
    "tensor.add_(5)  # notice the underscore\n",
    "print(tensor)"
   ]
  },
  {
   "cell_type": "code",
   "execution_count": 33,
   "metadata": {},
   "outputs": [
    {
     "name": "stdout",
     "output_type": "stream",
     "text": [
      "tensor([[1., 1.],\n",
      "        [1., 1.]]) \n",
      "\n",
      "tensor([[1., 1.],\n",
      "        [1., 1.]]) \n",
      "\n",
      "tensor([[6., 6.],\n",
      "        [6., 6.]])\n"
     ]
    }
   ],
   "source": [
    "tensor = torch.ones(2, 2)\n",
    "print(tensor, \"\\n\")\n",
    "tensor.add(5)  # no underscore\n",
    "print(tensor, \"\\n\")\n",
    "new_tensor = tensor.add(5)\n",
    "print(new_tensor)"
   ]
  },
  {
   "cell_type": "code",
   "execution_count": 34,
   "metadata": {},
   "outputs": [
    {
     "name": "stdout",
     "output_type": "stream",
     "text": [
      "x: tensor([1., 2.])\n",
      "y: tensor([3., 4.])\n"
     ]
    }
   ],
   "source": [
    "# Define 2 tensors\n",
    "x = torch.tensor([1., 2.])\n",
    "y = torch.tensor([3., 4.])\n",
    "print(f'x: {x}')\n",
    "print(f'y: {y}')"
   ]
  },
  {
   "cell_type": "code",
   "execution_count": 35,
   "metadata": {},
   "outputs": [
    {
     "name": "stdout",
     "output_type": "stream",
     "text": [
      "x + y : tensor([4., 6.])\n",
      "x - y : tensor([-2., -2.])\n",
      "x * y : tensor([3., 8.])\n",
      "x / y : tensor([0.3333, 0.5000])\n"
     ]
    }
   ],
   "source": [
    "# Arithmetic operations\n",
    "print(f'x + y : {x + y}')\n",
    "print(f'x - y : {x - y}')\n",
    "print(f'x * y : {x * y}')\n",
    "print(f'x / y : {x / y}')"
   ]
  },
  {
   "cell_type": "code",
   "execution_count": 37,
   "metadata": {},
   "outputs": [
    {
     "name": "stdout",
     "output_type": "stream",
     "text": [
      "x . y : 11.0\n",
      "y . x : 11.0\n"
     ]
    }
   ],
   "source": [
    "# Dot product\n",
    "print(f'x . y : {x.dot(y)}')\n",
    "print(f'y . x : {y.dot(x)}')"
   ]
  },
  {
   "cell_type": "code",
   "execution_count": 41,
   "metadata": {},
   "outputs": [
    {
     "name": "stdout",
     "output_type": "stream",
     "text": [
      "tensor([[1., 2.],\n",
      "        [3., 4.]])\n",
      "tensor([[5., 6.],\n",
      "        [7., 8.]])\n",
      "\n",
      "Matrix Multiplications: \n",
      "\n",
      "tensor([[19., 22.],\n",
      "        [43., 50.]])\n"
     ]
    }
   ],
   "source": [
    "# Matrix multiplication\n",
    "x = torch.tensor([[1., 2.],[3., 4.]])\n",
    "y = torch.tensor([[5., 6.],[7., 8.]])\n",
    "print(x)\n",
    "print(y)\n",
    "print(\"\\nMatrix Multiplications: \\n\")\n",
    "print(torch.matmul(x, y))"
   ]
  },
  {
   "cell_type": "code",
   "execution_count": 43,
   "metadata": {},
   "outputs": [
    {
     "data": {
      "text/plain": [
       "tensor([[19., 22.],\n",
       "        [43., 50.]])"
      ]
     },
     "execution_count": 43,
     "metadata": {},
     "output_type": "execute_result"
    }
   ],
   "source": [
    "# Other matrix multiplication methods\n",
    "# x.matmul(y)\n",
    "# x@y\n",
    "# If 2 tensors with 1D gets multiplied using matmul, it returns answer for dot product."
   ]
  },
  {
   "cell_type": "code",
   "execution_count": 44,
   "metadata": {},
   "outputs": [
    {
     "name": "stdout",
     "output_type": "stream",
     "text": [
      "tensor([1., 2.])\n",
      "tensor([[3., 4.],\n",
      "        [5., 6.]])\n",
      "tensor([13., 16.])\n"
     ]
    }
   ],
   "source": [
    "# If 2 different size matrix uses matmul, PyTorch will add the extra row with 0 values\n",
    "x = torch.tensor([1., 2.])\n",
    "y = torch.tensor([[3., 4.],[5., 6.]])\n",
    "print(x)\n",
    "print(y)\n",
    "print(torch.matmul(x,y))"
   ]
  },
  {
   "cell_type": "code",
   "execution_count": 47,
   "metadata": {},
   "outputs": [
    {
     "name": "stdout",
     "output_type": "stream",
     "text": [
      "tensor([1., 2.])\n",
      "tensor([[3., 4.],\n",
      "        [5., 6.]])\n",
      "\n",
      "Matrix Multiplications:\n"
     ]
    },
    {
     "data": {
      "text/plain": [
       "tensor([11., 17.])"
      ]
     },
     "execution_count": 47,
     "metadata": {},
     "output_type": "execute_result"
    }
   ],
   "source": [
    "# If first tensor is 2D and second tensor is 1D, output is matrix-vector product.\n",
    "x = torch.tensor([1., 2.])\n",
    "y = torch.tensor([[3., 4.],[5., 6.]])\n",
    "print(x)\n",
    "print(y)\n",
    "\n",
    "print(\"\\nMatrix Multiplications:\")\n",
    "torch.matmul(y,x)"
   ]
  },
  {
   "cell_type": "code",
   "execution_count": null,
   "metadata": {},
   "outputs": [],
   "source": [
    "# matmul is used only when any one tensor is of rank-2"
   ]
  }
 ],
 "metadata": {
  "kernelspec": {
   "display_name": "aienv",
   "language": "python",
   "name": "python3"
  },
  "language_info": {
   "codemirror_mode": {
    "name": "ipython",
    "version": 3
   },
   "file_extension": ".py",
   "mimetype": "text/x-python",
   "name": "python",
   "nbconvert_exporter": "python",
   "pygments_lexer": "ipython3",
   "version": "3.10.0"
  }
 },
 "nbformat": 4,
 "nbformat_minor": 2
}
